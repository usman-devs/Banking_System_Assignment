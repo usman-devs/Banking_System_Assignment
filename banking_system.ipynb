{
 "cells": [
  {
   "cell_type": "markdown",
   "id": "0ba818ba-6793-4cf7-9048-2e9c7e46c9e6",
   "metadata": {},
   "source": [
    "## Banking System Assignment (Functional Programming)"
   ]
  },
  {
   "cell_type": "markdown",
   "id": "dd9fb1c3-cea8-4da5-9913-5034ef6930e4",
   "metadata": {},
   "source": [
    "### Assignment Details \n",
    "#### You will build a banking system that performs the following tasks: \n",
    "- 1. Create an account for a user with a name and initial balance. \n",
    "- 2. Deposit money into the user’s account. \n",
    "- 3. Withdraw money from the user’s account. \n",
    "- 4. Check balance to view the current amount in the account. \n",
    "- 5. Print a transaction statement showing all deposits and withdrawals. "
   ]
  },
  {
   "cell_type": "code",
   "execution_count": null,
   "id": "4fea4b61-bbd0-4367-a1ca-b6c3e2a8fff0",
   "metadata": {},
   "outputs": [
    {
     "name": "stdout",
     "output_type": "stream",
     "text": [
      "Welcome to the Banking System!\n"
     ]
    },
    {
     "name": "stdin",
     "output_type": "stream",
     "text": [
      "Enter your name to create an account:  ali\n"
     ]
    },
    {
     "name": "stdout",
     "output_type": "stream",
     "text": [
      "Account for ali created with balance $0.00.\n",
      "\n",
      "Choose an operation:\n",
      "1. Deposit Money\n",
      "2. Withdraw Money\n",
      "3. Check Balance\n",
      "4. Print Statement\n",
      "5. Exit\n"
     ]
    }
   ],
   "source": [
    "import os\n",
    "\n",
    "TRANSACTIONS_FILE = \"transactions.txt\" # File to store transactions\n",
    "\n",
    "def create_account(name): # Function to create an account\n",
    "    account = {\"name\": name, \"balance\": 0.0, \"transactions\": []}\n",
    "    save_transactions(name, [])  # Initialize the file for the user\n",
    "    print(f\"Account for {name} created with balance $0.00.\")\n",
    "    return account\n",
    "\n",
    "def save_transactions(name, transactions): # Function to save transactions to a file\n",
    "    with open(TRANSACTIONS_FILE, \"a\") as file:\n",
    "        for transaction in transactions:\n",
    "            file.write(f\"{name}: {transaction}\\n\")\n",
    "\n",
    "def load_transactions(name): # Function to read transactions from a file\n",
    "    if not os.path.exists(TRANSACTIONS_FILE):\n",
    "        return []\n",
    "    with open(TRANSACTIONS_FILE, \"r\") as file:\n",
    "        lines = file.readlines()\n",
    "    return [line.split(\": \", 1)[1].strip() for line in lines if line.startswith(f\"{name}:\")]\n",
    "\n",
    "def deposit(account, amount): # Function to deposit money\n",
    "    if amount <= 0:\n",
    "        print(\"Error: Deposit amount must be positive.\")\n",
    "        return account\n",
    "    account[\"balance\"] += amount\n",
    "    transaction = f\"Deposit: ${amount:.2f} | New Balance: ${account['balance']:.2f}\"\n",
    "    account[\"transactions\"].append(transaction)\n",
    "    save_transactions(account[\"name\"], [transaction])\n",
    "    print(transaction)\n",
    "    return account\n",
    "\n",
    "def withdraw(account, amount): # Function to withdraw money\n",
    "    if amount <= 0:\n",
    "        print(\"Error: Withdrawal amount must be positive.\")\n",
    "        return account\n",
    "    if amount > account[\"balance\"]:\n",
    "        print(\"Error: Insufficient balance.\")\n",
    "        return account\n",
    "    account[\"balance\"] -= amount\n",
    "    transaction = f\"Withdrawal: ${amount:.2f} | New Balance: ${account['balance']:.2f}\"\n",
    "    account[\"transactions\"].append(transaction)\n",
    "    save_transactions(account[\"name\"], [transaction])\n",
    "    print(transaction)\n",
    "    return account\n",
    "\n",
    "def check_balance(account): # Function to check balance\n",
    "    print(f\"Current balance: ${account['balance']:.2f}.\")\n",
    "    return account[\"balance\"]\n",
    "\n",
    "def print_statement(account): # Function to print the transaction statement\n",
    "    print(f\"\\nAccount statement for {account['name']}:\")\n",
    "    transactions = load_transactions(account[\"name\"])\n",
    "    if not transactions:\n",
    "        print(\"No transactions available.\")\n",
    "    else:\n",
    "        for transaction in transactions:\n",
    "            print(f\"- {transaction}\")\n",
    "        print(f\"Final Balance: ${account['balance']:.2f}\")\n",
    "\n",
    "if __name__ == \"__main__\": # Main program for interactive testing\n",
    "    print(\"Welcome to the Banking System!\")\n",
    "    name = input(\"Enter your name to create an account: \")\n",
    "    account = create_account(name)\n",
    "\n",
    "    while True:\n",
    "        print(\"\\nChoose an operation:\")\n",
    "        print(\"1. Deposit Money\")\n",
    "        print(\"2. Withdraw Money\")\n",
    "        print(\"3. Check Balance\")\n",
    "        print(\"4. Print Statement\")\n",
    "        print(\"5. Exit\")\n",
    "        \n",
    "        choice = input(\"Enter your choice: \")\n",
    "        \n",
    "        if choice == \"1\":\n",
    "            try:\n",
    "                amount = float(input(\"Enter amount to deposit: \"))\n",
    "                account = deposit(account, amount)\n",
    "            except ValueError:\n",
    "                print(\"Invalid amount. Please enter a number.\")\n",
    "        elif choice == \"2\":\n",
    "            try:\n",
    "                amount = float(input(\"Enter amount to withdraw: \"))\n",
    "                account = withdraw(account, amount)\n",
    "            except ValueError:\n",
    "                print(\"Invalid amount. Please enter a number.\")\n",
    "        elif choice == \"3\":\n",
    "            check_balance(account)\n",
    "        elif choice == \"4\":\n",
    "            print_statement(account)\n",
    "        elif choice == \"5\":\n",
    "            print(\"Thank you for using the Banking System. Goodbye!\")\n",
    "            break\n",
    "        else:\n",
    "            print(\"Invalid choice. Please try again.\")\n"
   ]
  }
 ],
 "metadata": {
  "kernelspec": {
   "display_name": "Python 3 (ipykernel)",
   "language": "python",
   "name": "python3"
  },
  "language_info": {
   "codemirror_mode": {
    "name": "ipython",
    "version": 3
   },
   "file_extension": ".py",
   "mimetype": "text/x-python",
   "name": "python",
   "nbconvert_exporter": "python",
   "pygments_lexer": "ipython3",
   "version": "3.12.3"
  }
 },
 "nbformat": 4,
 "nbformat_minor": 5
}
